{
  "nbformat": 4,
  "nbformat_minor": 0,
  "metadata": {
    "colab": {
      "provenance": [],
      "authorship_tag": "ABX9TyNTgJs/4LXuQOwKv38BJs2+",
      "include_colab_link": true
    },
    "kernelspec": {
      "name": "python3",
      "display_name": "Python 3"
    },
    "language_info": {
      "name": "python"
    }
  },
  "cells": [
    {
      "cell_type": "markdown",
      "metadata": {
        "id": "view-in-github",
        "colab_type": "text"
      },
      "source": [
        "<a href=\"https://colab.research.google.com/github/sunlight2018/hands_on_ml3_notebooks/blob/main/notebooks/03_exercise_02.ipynb\" target=\"_parent\"><img src=\"https://colab.research.google.com/assets/colab-badge.svg\" alt=\"Open In Colab\"/></a>"
      ]
    },
    {
      "cell_type": "markdown",
      "source": [
        "Write a function that can shift an MNIST image in any direction (left, right, up, or down) by one pixel.⁠7 Then, for each image in the training set, create four shifted copies (one per direction) and add them to the training set. Finally, train your best model on this expanded training set and measure its accuracy on the test set. You should observe that your model performs even better now! This technique of artificially growing the training set is called data augmentation or training set expansion."
      ],
      "metadata": {
        "id": "OlZzGOMZj8GK"
      }
    },
    {
      "cell_type": "code",
      "source": [
        "# ✅ Step 1: 导入库\n",
        "from tensorflow.keras.datasets import mnist\n",
        "from tensorflow.keras.preprocessing.image import ImageDataGenerator\n",
        "from sklearn.neighbors import KNeighborsClassifier\n",
        "from sklearn.metrics import accuracy_score\n",
        "import numpy as np"
      ],
      "metadata": {
        "id": "iNNyJdWMquML"
      },
      "execution_count": 26,
      "outputs": []
    },
    {
      "cell_type": "code",
      "source": [
        "# ✅ Step 2: 加载 MNIST 数据\n",
        "(x_train, y_train), (x_test, y_test) = mnist.load_data()\n",
        "\n",
        "# 正规化 & 增加通道维度（灰度图 → 1 通道）\n",
        "x_train = x_train.astype(\"float32\") / 255.0\n",
        "x_test = x_test.astype(\"float32\") / 255.0\n",
        "\n",
        "x_train = np.expand_dims(x_train, -1)  # (60000, 28, 28, 1)\n",
        "x_test = np.expand_dims(x_test, -1)"
      ],
      "metadata": {
        "id": "EZVyxb5eqv9Y"
      },
      "execution_count": 27,
      "outputs": []
    },
    {
      "cell_type": "code",
      "source": [
        "# ✅ Step 3: 设置数据增强器\n",
        "data_aug = ImageDataGenerator(\n",
        "    rotation_range=1,\n",
        "    width_shift_range=0.05,\n",
        "    height_shift_range=0.05,\n",
        "    zoom_range=0.05\n",
        ")"
      ],
      "metadata": {
        "id": "jr4MXIlMq0-Q"
      },
      "execution_count": 28,
      "outputs": []
    },
    {
      "cell_type": "code",
      "source": [
        "# ✅ Step 4: 生成增强图像\n",
        "augment_size = 10000\n",
        "\n",
        "augment_generator = data_aug.flow(\n",
        "    x_train, y_train,\n",
        "    batch_size=augment_size,\n",
        "    shuffle=True\n",
        ")\n",
        "\n",
        "x_augmented, y_augmented = next(augment_generator)\n",
        "\n",
        "# 合并原始和增强数据\n",
        "x_train_all = np.concatenate((x_train, x_augmented))\n",
        "y_train_all = np.concatenate((y_train, y_augmented))"
      ],
      "metadata": {
        "id": "ewlUz9ojq3cs"
      },
      "execution_count": 29,
      "outputs": []
    },
    {
      "cell_type": "code",
      "source": [
        "# ✅ Step 5: 扁平化数据，KNN 要用向量\n",
        "x_train_all_flat = x_train_all.reshape((x_train_all.shape[0], -1))  # (70000, 784)\n",
        "x_test_flat = x_test.reshape((x_test.shape[0], -1))                # (10000, 784)"
      ],
      "metadata": {
        "id": "OvpTzyX_q9Hg"
      },
      "execution_count": 30,
      "outputs": []
    },
    {
      "cell_type": "code",
      "source": [
        "# ✅ Step 6: 使用 KNN 训练模型\n",
        "knn_clf = KNeighborsClassifier(n_neighbors=4, weights='distance')\n",
        "knn_clf.fit(x_train_all_flat, y_train_all)\n",
        "\n",
        "y_pred = knn_clf.predict(x_test_flat)\n",
        "acc = accuracy_score(y_test, y_pred)\n",
        "\n",
        "print(f\"KNN accuracy with data augmentation: {acc:.4f}\")"
      ],
      "metadata": {
        "colab": {
          "base_uri": "https://localhost:8080/"
        },
        "id": "saeomgGgrDuP",
        "outputId": "462d5689-6798-457f-e497-454af40d0196"
      },
      "execution_count": 31,
      "outputs": [
        {
          "output_type": "stream",
          "name": "stdout",
          "text": [
            "KNN accuracy with data augmentation: 0.9706\n"
          ]
        }
      ]
    },
    {
      "cell_type": "markdown",
      "source": [
        "另一种方法，教材里的"
      ],
      "metadata": {
        "id": "IkMqFBd9twZ2"
      }
    },
    {
      "cell_type": "code",
      "source": [
        "from sklearn.datasets import fetch_openml\n",
        "\n",
        "mnist = fetch_openml('mnist_784', as_frame=False)\n",
        "\n",
        "X, y = mnist.data, mnist.target\n",
        "x_train, x_test, y_train, y_test = X[:60000], X[60000:], y[:60000], y[60000:]"
      ],
      "metadata": {
        "id": "GD_O4wt437gw"
      },
      "execution_count": 37,
      "outputs": []
    },
    {
      "cell_type": "code",
      "source": [
        "from scipy.ndimage import shift\n",
        "\n",
        "def shift_image(image, dx, dy):\n",
        "  image = image.reshape((28, 28))\n",
        "  shifted_image = shift(image, [dy, dx], cval= 0, mode= 'constant')\n",
        "  return shifted_image.reshape([-1])\n"
      ],
      "metadata": {
        "id": "3AA0JtCXt6ho"
      },
      "execution_count": 38,
      "outputs": []
    },
    {
      "cell_type": "code",
      "source": [
        "x_train_augmented = [image for image in x_train]\n",
        "y_train_augmented = [label for label in y_train]\n",
        "\n",
        "for dx, dy in ((-1, 0), (1, 0), (0, -1), (0,1)):\n",
        "  for image, label in zip(x_train, y_train):\n",
        "    x_train_augmented.append(shift_image(image, dx, dy))\n",
        "    y_train_augmented.append(label)\n",
        "\n",
        "x_train_augmented_np = np.array(x_train_augmented)\n",
        "y_train_augmented_np = np.array(y_train_augmented)"
      ],
      "metadata": {
        "id": "rQ9MTJo4z_4u"
      },
      "execution_count": 39,
      "outputs": []
    },
    {
      "cell_type": "code",
      "source": [
        "shuffle_idx = np.random.permutation(len(x_train_augmented_np))\n",
        "x_train_augmented_np_shuffle = x_train_augmented_np[shuffle_idx]\n",
        "y_train_augmented_np_shuffle = y_train_augmented_np[shuffle_idx]"
      ],
      "metadata": {
        "id": "jETP2CEr2Pgc"
      },
      "execution_count": 40,
      "outputs": []
    },
    {
      "cell_type": "code",
      "source": [
        "knn_clf = KNeighborsClassifier(n_neighbors= 4, weights= 'distance' )\n",
        "final_model_augmentd= knn_clf.fit(x_train_augmented_np_shuffle, y_train_augmented_np_shuffle)"
      ],
      "metadata": {
        "id": "pcx1HILG5Ax2"
      },
      "execution_count": 41,
      "outputs": []
    },
    {
      "cell_type": "code",
      "source": [
        "final_model_augmentd.score(x_test, y_test)"
      ],
      "metadata": {
        "colab": {
          "base_uri": "https://localhost:8080/"
        },
        "id": "OhHHVuki5jPo",
        "outputId": "c532aa44-c3b7-4038-8fdb-fc02fb22d73c"
      },
      "execution_count": 42,
      "outputs": [
        {
          "output_type": "execute_result",
          "data": {
            "text/plain": [
              "0.9763"
            ]
          },
          "metadata": {},
          "execution_count": 42
        }
      ]
    }
  ]
}